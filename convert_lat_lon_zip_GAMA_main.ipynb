{
 "cells": [
  {
   "cell_type": "code",
   "execution_count": 2,
   "id": "597d5497",
   "metadata": {},
   "outputs": [],
   "source": [
    "import shapely\n",
    "import geopandas as gpd\n",
    "import pandas as pd\n",
    "import numpy as np\n"
   ]
  },
  {
   "cell_type": "markdown",
   "id": "dff78e94",
   "metadata": {},
   "source": [
    "## Input\n",
    "This is the only place where you have to change code if you want to change the dates or concentrations that you are filtering out, or if the column names of your files are different."
   ]
  },
  {
   "cell_type": "code",
   "execution_count": 3,
   "id": "d3bc79f5",
   "metadata": {},
   "outputs": [],
   "source": [
    "data_file_name = '../GAMA_allyears_restrictedcolumns.csv'\n",
    "\n",
    "year_range = [90,10] # Only put the last two numbers of the year (e.g. 1990 > 90) Date format is \"YYYY/MM/DD\"\n",
    "date_column_name = 'gm_samp_collection_date'\n",
    "\n",
    "concentration_treshold = 10\n",
    "concentration_column_name = 'gm_result'\n",
    "\n",
    "lat_column_name = 'Latitude'\n",
    "lon_column_name = 'Longitude'\n",
    "\n",
    "# whenever want to add extra columns\n",
    "keep_columns=[date_column_name, concentration_column_name]"
   ]
  },
  {
   "cell_type": "markdown",
   "id": "29dd6d8a",
   "metadata": {},
   "source": [
    "---"
   ]
  },
  {
   "cell_type": "markdown",
   "id": "da83e882",
   "metadata": {},
   "source": [
    "### Load all zipcode polygons:"
   ]
  },
  {
   "cell_type": "code",
   "execution_count": 4,
   "id": "c0556830",
   "metadata": {},
   "outputs": [
    {
     "data": {
      "text/html": [
       "<div>\n",
       "<style scoped>\n",
       "    .dataframe tbody tr th:only-of-type {\n",
       "        vertical-align: middle;\n",
       "    }\n",
       "\n",
       "    .dataframe tbody tr th {\n",
       "        vertical-align: top;\n",
       "    }\n",
       "\n",
       "    .dataframe thead th {\n",
       "        text-align: right;\n",
       "    }\n",
       "</style>\n",
       "<table border=\"1\" class=\"dataframe\">\n",
       "  <thead>\n",
       "    <tr style=\"text-align: right;\">\n",
       "      <th></th>\n",
       "      <th>ZCTA5CE10</th>\n",
       "      <th>geometry</th>\n",
       "    </tr>\n",
       "  </thead>\n",
       "  <tbody>\n",
       "    <tr>\n",
       "      <th>0</th>\n",
       "      <td>93201</td>\n",
       "      <td>POLYGON ((-119.53768 35.92032, -119.53768 35.9...</td>\n",
       "    </tr>\n",
       "    <tr>\n",
       "      <th>1</th>\n",
       "      <td>93202</td>\n",
       "      <td>POLYGON ((-119.70291 36.31686, -119.70295 36.3...</td>\n",
       "    </tr>\n",
       "    <tr>\n",
       "      <th>2</th>\n",
       "      <td>93203</td>\n",
       "      <td>MULTIPOLYGON (((-118.77086 35.32751, -118.7708...</td>\n",
       "    </tr>\n",
       "    <tr>\n",
       "      <th>3</th>\n",
       "      <td>93204</td>\n",
       "      <td>MULTIPOLYGON (((-120.10873 36.05803, -120.1085...</td>\n",
       "    </tr>\n",
       "    <tr>\n",
       "      <th>4</th>\n",
       "      <td>93206</td>\n",
       "      <td>POLYGON ((-119.41234 35.48591, -119.41228 35.4...</td>\n",
       "    </tr>\n",
       "  </tbody>\n",
       "</table>\n",
       "</div>"
      ],
      "text/plain": [
       "  ZCTA5CE10                                           geometry\n",
       "0     93201  POLYGON ((-119.53768 35.92032, -119.53768 35.9...\n",
       "1     93202  POLYGON ((-119.70291 36.31686, -119.70295 36.3...\n",
       "2     93203  MULTIPOLYGON (((-118.77086 35.32751, -118.7708...\n",
       "3     93204  MULTIPOLYGON (((-120.10873 36.05803, -120.1085...\n",
       "4     93206  POLYGON ((-119.41234 35.48591, -119.41228 35.4..."
      ]
     },
     "execution_count": 4,
     "metadata": {},
     "output_type": "execute_result"
    }
   ],
   "source": [
    "zip_gdf = gpd.read_file(\"zipcode_polygon.shp\")[['ZCTA5CE10','geometry']]\n",
    "zip_gdf.head()"
   ]
  },
  {
   "cell_type": "markdown",
   "id": "537dcecf",
   "metadata": {},
   "source": [
    "### Load and filter main data:\n",
    "Here we are filtering by date, and by concentration"
   ]
  },
  {
   "cell_type": "code",
   "execution_count": 5,
   "id": "e57f2823",
   "metadata": {},
   "outputs": [
    {
     "data": {
      "text/html": [
       "<div>\n",
       "<style scoped>\n",
       "    .dataframe tbody tr th:only-of-type {\n",
       "        vertical-align: middle;\n",
       "    }\n",
       "\n",
       "    .dataframe tbody tr th {\n",
       "        vertical-align: top;\n",
       "    }\n",
       "\n",
       "    .dataframe thead th {\n",
       "        text-align: right;\n",
       "    }\n",
       "</style>\n",
       "<table border=\"1\" class=\"dataframe\">\n",
       "  <thead>\n",
       "    <tr style=\"text-align: right;\">\n",
       "      <th></th>\n",
       "      <th>Latitude</th>\n",
       "      <th>Longitude</th>\n",
       "      <th>gm_samp_collection_date</th>\n",
       "      <th>gm_result</th>\n",
       "    </tr>\n",
       "  </thead>\n",
       "  <tbody>\n",
       "    <tr>\n",
       "      <th>0</th>\n",
       "      <td>37.683331</td>\n",
       "      <td>-121.76268</td>\n",
       "      <td>2010-06-29</td>\n",
       "      <td>11.10</td>\n",
       "    </tr>\n",
       "    <tr>\n",
       "      <th>1</th>\n",
       "      <td>37.683331</td>\n",
       "      <td>-121.76268</td>\n",
       "      <td>2010-07-19</td>\n",
       "      <td>10.30</td>\n",
       "    </tr>\n",
       "    <tr>\n",
       "      <th>2</th>\n",
       "      <td>37.683331</td>\n",
       "      <td>-121.76268</td>\n",
       "      <td>2010-07-26</td>\n",
       "      <td>10.30</td>\n",
       "    </tr>\n",
       "    <tr>\n",
       "      <th>3</th>\n",
       "      <td>37.683331</td>\n",
       "      <td>-121.76268</td>\n",
       "      <td>2010-08-23</td>\n",
       "      <td>10.99</td>\n",
       "    </tr>\n",
       "    <tr>\n",
       "      <th>4</th>\n",
       "      <td>37.683331</td>\n",
       "      <td>-121.76268</td>\n",
       "      <td>2010-09-07</td>\n",
       "      <td>10.77</td>\n",
       "    </tr>\n",
       "  </tbody>\n",
       "</table>\n",
       "</div>"
      ],
      "text/plain": [
       "    Latitude  Longitude gm_samp_collection_date  gm_result\n",
       "0  37.683331 -121.76268              2010-06-29      11.10\n",
       "1  37.683331 -121.76268              2010-07-19      10.30\n",
       "2  37.683331 -121.76268              2010-07-26      10.30\n",
       "3  37.683331 -121.76268              2010-08-23      10.99\n",
       "4  37.683331 -121.76268              2010-09-07      10.77"
      ]
     },
     "execution_count": 5,
     "metadata": {},
     "output_type": "execute_result"
    }
   ],
   "source": [
    "# Load full file:\n",
    "df = pd.read_csv(data_file_name)\n",
    "\n",
    "# Delete columns we don't need: \n",
    "df = df[[lat_column_name, lon_column_name]+ keep_columns]\n",
    "\n",
    "# Filter rows by date:\n",
    "dates_bool = pd.Series([(int(df[date_column_name][i][2:4]) >= year_range[0]) |\n",
    "                        (int(df[date_column_name][i][2:4]) <= year_range[1])\n",
    "                        for i in range(len(df))])\n",
    "df = df[dates_bool]\n",
    "df = df.reset_index().drop('index', axis=1)\n",
    "\n",
    "# Filter rows by concentration:\n",
    "conc_bool = pd.Series([df[concentration_column_name][i] >= concentration_treshold\n",
    "                        for i in range(len(df))])\n",
    "df = df[conc_bool]\n",
    "df = df.reset_index().drop('index', axis=1)\n",
    "\n",
    "df.head()"
   ]
  },
  {
   "cell_type": "markdown",
   "id": "117be003",
   "metadata": {},
   "source": [
    "### Convert the pd to gpd:\n",
    "We need to convert the data from a pandas dataframe, to a geopandas dataframe. To do this, we have to convert the points (lat,lon) to \"shapely\" objects."
   ]
  },
  {
   "cell_type": "code",
   "execution_count": 6,
   "id": "4382b55f",
   "metadata": {},
   "outputs": [],
   "source": [
    "# Convert points to shapely objects, and add that as 'geometry' to the dataframe:\n",
    "df['geometry'] = gpd.points_from_xy(df[lon_column_name], df[lat_column_name])\n",
    "\n",
    "# Now just convert that Pandas dataframe to a GeoPandas dataframe:\n",
    "data_gdf = gpd.GeoDataFrame(df, geometry='geometry').set_crs('EPSG:4326').to_crs(zip_gdf.crs)\n"
   ]
  },
  {
   "cell_type": "code",
   "execution_count": 7,
   "id": "baec05f9",
   "metadata": {},
   "outputs": [
    {
     "data": {
      "text/html": [
       "<div>\n",
       "<style scoped>\n",
       "    .dataframe tbody tr th:only-of-type {\n",
       "        vertical-align: middle;\n",
       "    }\n",
       "\n",
       "    .dataframe tbody tr th {\n",
       "        vertical-align: top;\n",
       "    }\n",
       "\n",
       "    .dataframe thead th {\n",
       "        text-align: right;\n",
       "    }\n",
       "</style>\n",
       "<table border=\"1\" class=\"dataframe\">\n",
       "  <thead>\n",
       "    <tr style=\"text-align: right;\">\n",
       "      <th></th>\n",
       "      <th>Latitude</th>\n",
       "      <th>Longitude</th>\n",
       "      <th>gm_samp_collection_date</th>\n",
       "      <th>gm_result</th>\n",
       "      <th>geometry</th>\n",
       "    </tr>\n",
       "  </thead>\n",
       "  <tbody>\n",
       "    <tr>\n",
       "      <th>0</th>\n",
       "      <td>37.683331</td>\n",
       "      <td>-121.76268</td>\n",
       "      <td>2010-06-29</td>\n",
       "      <td>11.10</td>\n",
       "      <td>POINT (-121.76268 37.68333)</td>\n",
       "    </tr>\n",
       "    <tr>\n",
       "      <th>1</th>\n",
       "      <td>37.683331</td>\n",
       "      <td>-121.76268</td>\n",
       "      <td>2010-07-19</td>\n",
       "      <td>10.30</td>\n",
       "      <td>POINT (-121.76268 37.68333)</td>\n",
       "    </tr>\n",
       "    <tr>\n",
       "      <th>2</th>\n",
       "      <td>37.683331</td>\n",
       "      <td>-121.76268</td>\n",
       "      <td>2010-07-26</td>\n",
       "      <td>10.30</td>\n",
       "      <td>POINT (-121.76268 37.68333)</td>\n",
       "    </tr>\n",
       "    <tr>\n",
       "      <th>3</th>\n",
       "      <td>37.683331</td>\n",
       "      <td>-121.76268</td>\n",
       "      <td>2010-08-23</td>\n",
       "      <td>10.99</td>\n",
       "      <td>POINT (-121.76268 37.68333)</td>\n",
       "    </tr>\n",
       "    <tr>\n",
       "      <th>4</th>\n",
       "      <td>37.683331</td>\n",
       "      <td>-121.76268</td>\n",
       "      <td>2010-09-07</td>\n",
       "      <td>10.77</td>\n",
       "      <td>POINT (-121.76268 37.68333)</td>\n",
       "    </tr>\n",
       "  </tbody>\n",
       "</table>\n",
       "</div>"
      ],
      "text/plain": [
       "    Latitude  Longitude gm_samp_collection_date  gm_result  \\\n",
       "0  37.683331 -121.76268              2010-06-29      11.10   \n",
       "1  37.683331 -121.76268              2010-07-19      10.30   \n",
       "2  37.683331 -121.76268              2010-07-26      10.30   \n",
       "3  37.683331 -121.76268              2010-08-23      10.99   \n",
       "4  37.683331 -121.76268              2010-09-07      10.77   \n",
       "\n",
       "                      geometry  \n",
       "0  POINT (-121.76268 37.68333)  \n",
       "1  POINT (-121.76268 37.68333)  \n",
       "2  POINT (-121.76268 37.68333)  \n",
       "3  POINT (-121.76268 37.68333)  \n",
       "4  POINT (-121.76268 37.68333)  "
      ]
     },
     "execution_count": 7,
     "metadata": {},
     "output_type": "execute_result"
    }
   ],
   "source": [
    "data_gdf.head()"
   ]
  },
  {
   "cell_type": "markdown",
   "id": "0a515e4e",
   "metadata": {},
   "source": [
    "### Now combine the zipcode data with the main data:\n",
    "This will simply add a column with zip codes to the array. Any points that don't belong to any of the zipcodes will be removed from the dataframe \n"
   ]
  },
  {
   "cell_type": "code",
   "execution_count": 8,
   "id": "c937abb2",
   "metadata": {},
   "outputs": [
    {
     "data": {
      "text/html": [
       "<div>\n",
       "<style scoped>\n",
       "    .dataframe tbody tr th:only-of-type {\n",
       "        vertical-align: middle;\n",
       "    }\n",
       "\n",
       "    .dataframe tbody tr th {\n",
       "        vertical-align: top;\n",
       "    }\n",
       "\n",
       "    .dataframe thead th {\n",
       "        text-align: right;\n",
       "    }\n",
       "</style>\n",
       "<table border=\"1\" class=\"dataframe\">\n",
       "  <thead>\n",
       "    <tr style=\"text-align: right;\">\n",
       "      <th></th>\n",
       "      <th>Zipcode</th>\n",
       "      <th>gm_samp_collection_date</th>\n",
       "      <th>gm_result</th>\n",
       "    </tr>\n",
       "  </thead>\n",
       "  <tbody>\n",
       "    <tr>\n",
       "      <th>14</th>\n",
       "      <td>93725</td>\n",
       "      <td>2010-05-21</td>\n",
       "      <td>11.0</td>\n",
       "    </tr>\n",
       "    <tr>\n",
       "      <th>17</th>\n",
       "      <td>93725</td>\n",
       "      <td>2010-01-25</td>\n",
       "      <td>11.0</td>\n",
       "    </tr>\n",
       "    <tr>\n",
       "      <th>18</th>\n",
       "      <td>93725</td>\n",
       "      <td>2010-07-26</td>\n",
       "      <td>11.0</td>\n",
       "    </tr>\n",
       "    <tr>\n",
       "      <th>1501</th>\n",
       "      <td>93725</td>\n",
       "      <td>2010-10-20</td>\n",
       "      <td>13.0</td>\n",
       "    </tr>\n",
       "    <tr>\n",
       "      <th>4628</th>\n",
       "      <td>93725</td>\n",
       "      <td>2007-10-01</td>\n",
       "      <td>11.0</td>\n",
       "    </tr>\n",
       "  </tbody>\n",
       "</table>\n",
       "</div>"
      ],
      "text/plain": [
       "     Zipcode gm_samp_collection_date  gm_result\n",
       "14     93725              2010-05-21       11.0\n",
       "17     93725              2010-01-25       11.0\n",
       "18     93725              2010-07-26       11.0\n",
       "1501   93725              2010-10-20       13.0\n",
       "4628   93725              2007-10-01       11.0"
      ]
     },
     "execution_count": 8,
     "metadata": {},
     "output_type": "execute_result"
    }
   ],
   "source": [
    "filtered_gdf = data_gdf.sjoin(zip_gdf, how='inner').rename(columns={'ZCTA5CE10':'Zipcode'})\n",
    "\n",
    "# Keep only the columns we care about:\n",
    "filtered_gdf = filtered_gdf[['Zipcode']+ keep_columns]\n",
    "\n",
    "filtered_gdf.head()"
   ]
  },
  {
   "cell_type": "code",
   "execution_count": 9,
   "id": "390ae985",
   "metadata": {},
   "outputs": [],
   "source": [
    "# Save file:\n",
    "filtered_gdf.to_csv(f'{data_file_name[:-4]}_zipcoded.csv', index=False)"
   ]
  },
  {
   "cell_type": "code",
   "execution_count": 10,
   "id": "b55a8e0e",
   "metadata": {},
   "outputs": [
    {
     "name": "stdout",
     "output_type": "stream",
     "text": [
      "../GAMA_allyears_restrictedcolumns_zipcoded.csv\n"
     ]
    }
   ],
   "source": [
    "print(f'{data_file_name[:-4]}_zipcoded.csv')"
   ]
  },
  {
   "cell_type": "code",
   "execution_count": null,
   "id": "8db38d05",
   "metadata": {},
   "outputs": [],
   "source": []
  },
  {
   "cell_type": "code",
   "execution_count": null,
   "id": "1772c768",
   "metadata": {},
   "outputs": [],
   "source": []
  }
 ],
 "metadata": {
  "kernelspec": {
   "display_name": "Python 3 (ipykernel)",
   "language": "python",
   "name": "python3"
  },
  "language_info": {
   "codemirror_mode": {
    "name": "ipython",
    "version": 3
   },
   "file_extension": ".py",
   "mimetype": "text/x-python",
   "name": "python",
   "nbconvert_exporter": "python",
   "pygments_lexer": "ipython3",
   "version": "3.9.13"
  }
 },
 "nbformat": 4,
 "nbformat_minor": 5
}
