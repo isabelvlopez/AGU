{
 "cells": [
  {
   "cell_type": "code",
   "execution_count": 3,
   "id": "5b231d37",
   "metadata": {},
   "outputs": [
    {
     "data": {
      "text/plain": [
       "Index(['OBJECTID', 'CNTY_FIPS', 'COUNTY', 'TRACT', 'TRACT_ID', 'CENSUS_KEY',\n",
       "       'ZCTA', 'ZCTA_KEY', 'LATITUDE', 'LONGITUDE', 'TOT_POP', 'AGE_UNDER5',\n",
       "       'AGE_5TO9', 'AGE_10TO14', 'AGE_15TO19', 'AGE_20TO24', 'AGE_25TO29',\n",
       "       'AGE_30TO34', 'AGE_35TO39', 'AGE_40TO44', 'AGE_45TO49', 'AGE_50TO54',\n",
       "       'AGE_55TO59', 'AGE_60TO64', 'AGE_65TO69', 'AGE_70TO74', 'AGE_75TO79',\n",
       "       'AGE_80TO84', 'AGE_85_OVE', 'AGE16_OVER', 'AGE18_OVER', 'AGE21_OVER',\n",
       "       'AGE62_OVER', 'AGE65_OVER', 'MALE', 'FEMALE', 'AGE_MEDIAN',\n",
       "       'AGE_MEDI_1', 'AGE_MEDI_2', 'ONE_RACE', 'WHITE', 'BLACK_AFAM',\n",
       "       'AMIND_ALAN', 'ASIAN', 'NATHAW_ISL', 'OTHER_RACE', 'MULTI_RACE',\n",
       "       'HISPANIC_L', 'NON_HISP_L', 'WHITE_NHL', 'BLACK_AF_1', 'AMIND_AL_1',\n",
       "       'ASIAN_NHL', 'NATHAW_I_1', 'OTHER_NHL', 'MULTI_RA_1', 'TOT_IN_HOU',\n",
       "       'TOT_IN_GC', 'GC_INST', 'GC_NONINST', 'GC_CORRECT', 'GC_JUV', 'GC_NURS',\n",
       "       'GC_OTHER', 'HH_TOTAL', 'HH_FAMILY', 'HH_NONFAML', 'HH_NONFAMI',\n",
       "       'HH_NONFA_1', 'HH_NONFA_2', 'HH_NONFA_3', 'HH_NONFA_4', 'HH_WITH_UN',\n",
       "       'HH_WITH_65', 'HU_TOTAL', 'HU_OCC', 'HU_VAC', 'HU_VAC_REN',\n",
       "       'HU_VAC_SEA', 'HU_OCC_OWN', 'HU_OCC_O_1', 'HU_OCC_REN', 'HU_OCC_R_1',\n",
       "       'Shape_area', 'Shape_len', 'geometry'],\n",
       "      dtype='object')"
      ]
     },
     "execution_count": 3,
     "metadata": {},
     "output_type": "execute_result"
    }
   ],
   "source": [
    "import geopandas as gpd\n",
    "import pandas as pd\n",
    "\n",
    "data= gpd.read_file('ZCTA2010.shp')\n",
    "\n",
    "data.columns"
   ]
  },
  {
   "cell_type": "code",
   "execution_count": 4,
   "id": "07af720a",
   "metadata": {},
   "outputs": [
    {
     "data": {
      "text/plain": [
       "1769"
      ]
     },
     "execution_count": 4,
     "metadata": {},
     "output_type": "execute_result"
    }
   ],
   "source": [
    "len(data)"
   ]
  },
  {
   "cell_type": "code",
   "execution_count": 5,
   "id": "3d787f0b",
   "metadata": {},
   "outputs": [],
   "source": [
    "zipcodes= data['ZCTA']\n",
    "urban = ((data['TOT_POP']/(data['geometry'].area * 3.86102e-7))>500)\n",
    "df= pd.DataFrame.from_dict({'Zipcode':zipcodes, 'Urban':urban})\n",
    "df.to_csv('urban_rural_zipcode.csv', index= False)\n",
    "\n",
    "# number of square miles per county"
   ]
  },
  {
   "cell_type": "code",
   "execution_count": 7,
   "id": "c01cbc53",
   "metadata": {},
   "outputs": [
    {
     "data": {
      "text/html": [
       "<div>\n",
       "<style scoped>\n",
       "    .dataframe tbody tr th:only-of-type {\n",
       "        vertical-align: middle;\n",
       "    }\n",
       "\n",
       "    .dataframe tbody tr th {\n",
       "        vertical-align: top;\n",
       "    }\n",
       "\n",
       "    .dataframe thead th {\n",
       "        text-align: right;\n",
       "    }\n",
       "</style>\n",
       "<table border=\"1\" class=\"dataframe\">\n",
       "  <thead>\n",
       "    <tr style=\"text-align: right;\">\n",
       "      <th></th>\n",
       "      <th>Zipcode</th>\n",
       "      <th>Urban</th>\n",
       "    </tr>\n",
       "  </thead>\n",
       "  <tbody>\n",
       "    <tr>\n",
       "      <th>0</th>\n",
       "      <td>94601</td>\n",
       "      <td>True</td>\n",
       "    </tr>\n",
       "    <tr>\n",
       "      <th>1</th>\n",
       "      <td>94501</td>\n",
       "      <td>True</td>\n",
       "    </tr>\n",
       "    <tr>\n",
       "      <th>2</th>\n",
       "      <td>94560</td>\n",
       "      <td>True</td>\n",
       "    </tr>\n",
       "    <tr>\n",
       "      <th>3</th>\n",
       "      <td>94587</td>\n",
       "      <td>True</td>\n",
       "    </tr>\n",
       "    <tr>\n",
       "      <th>4</th>\n",
       "      <td>94580</td>\n",
       "      <td>True</td>\n",
       "    </tr>\n",
       "  </tbody>\n",
       "</table>\n",
       "</div>"
      ],
      "text/plain": [
       "  Zipcode  Urban\n",
       "0   94601   True\n",
       "1   94501   True\n",
       "2   94560   True\n",
       "3   94587   True\n",
       "4   94580   True"
      ]
     },
     "execution_count": 7,
     "metadata": {},
     "output_type": "execute_result"
    }
   ],
   "source": [
    "#Urban has more than 500 people per square mile\n",
    "df.head()"
   ]
  },
  {
   "cell_type": "code",
   "execution_count": null,
   "id": "76490fee",
   "metadata": {},
   "outputs": [],
   "source": []
  }
 ],
 "metadata": {
  "kernelspec": {
   "display_name": "Python 3 (ipykernel)",
   "language": "python",
   "name": "python3"
  },
  "language_info": {
   "codemirror_mode": {
    "name": "ipython",
    "version": 3
   },
   "file_extension": ".py",
   "mimetype": "text/x-python",
   "name": "python",
   "nbconvert_exporter": "python",
   "pygments_lexer": "ipython3",
   "version": "3.9.13"
  }
 },
 "nbformat": 4,
 "nbformat_minor": 5
}
