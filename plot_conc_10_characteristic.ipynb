{
 "cells": [
  {
   "cell_type": "code",
   "execution_count": 3,
   "id": "bcc03b91",
   "metadata": {},
   "outputs": [],
   "source": [
    "import matplotlib.pyplot as plt\n",
    "import pandas as pd\n",
    "import numpy as np"
   ]
  },
  {
   "cell_type": "code",
   "execution_count": 4,
   "id": "c59a8694",
   "metadata": {},
   "outputs": [],
   "source": [
    "df_category = pd.read_csv('CENTRALVALLEY_NO3N_conc_10_zipcoded_eve.csv')\n",
    "\n",
    "df_urban_rural = pd.read_csv('census_zipcode/urban_rural_zipcode.csv')\n",
    "\n",
    "\n"
   ]
  },
  {
   "cell_type": "code",
   "execution_count": 5,
   "id": "0f9afd89",
   "metadata": {},
   "outputs": [
    {
     "data": {
      "text/plain": [
       "(13.425972424557738, nan)"
      ]
     },
     "execution_count": 5,
     "metadata": {},
     "output_type": "execute_result"
    }
   ],
   "source": [
    "# find average municipal concentration and avg private concentration\n",
    "\n",
    "municipal_avg = df_category[df_category['GM_WELL_CATEGORY']=='Municipal']['GM_RESULT'].mean()\n",
    "domestic_avg = df_category[df_category['GM_WELL_CATEGORY']=='Domestic']['GM_RESULT'].mean()\n",
    "municipal_avg, domestic_avg"
   ]
  },
  {
   "cell_type": "code",
   "execution_count": 6,
   "id": "da2f930d",
   "metadata": {},
   "outputs": [],
   "source": [
    "# find urban and rural concentrations\n",
    "\n",
    "zip_dict ={df_urban_rural['Zipcode'][i]:df_urban_rural['Urban'][i] for i in range(len(df_urban_rural))}\n",
    "urban_avg = np.mean([df_category['GM_RESULT'][i] for i in range(len(df_category)) if zip_dict[df_category['Zipcode'][i]]])\n",
    "rural_avg = np.mean([df_category['GM_RESULT'][i] for i in range(len(df_category)) if zip_dict[df_category['Zipcode'][i]]==False])\n"
   ]
  },
  {
   "cell_type": "code",
   "execution_count": 7,
   "id": "edd60668",
   "metadata": {},
   "outputs": [
    {
     "data": {
      "text/plain": [
       "(16.268752427184467, 19.984130841121495)"
      ]
     },
     "execution_count": 7,
     "metadata": {},
     "output_type": "execute_result"
    }
   ],
   "source": [
    "urban_avg, rural_avg"
   ]
  },
  {
   "cell_type": "code",
   "execution_count": 8,
   "id": "906e49a0",
   "metadata": {},
   "outputs": [
    {
     "data": {
      "text/plain": [
       "Text(0.5, 1.0, 'Zipcodes')"
      ]
     },
     "execution_count": 8,
     "metadata": {},
     "output_type": "execute_result"
    },
    {
     "data": {
      "image/png": "[encoded data removed]",
      "text/plain": [
       "<Figure size 640x480 with 2 Axes>"
      ]
     },
     "metadata": {},
     "output_type": "display_data"
    }
   ],
   "source": [
    "# Municipal vs Domestic\n",
    "plt.subplot(121)\n",
    "plt.bar([1,2], [municipal_avg, domestic_avg], color= ['grey', 'black'])\n",
    "plt.xticks([])\n",
    "plt.ylabel('mean concentration')\n",
    "plt.grid()\n",
    "plt.gca().set_axisbelow(True)\n",
    "plt.text(.9, 2, 'Municipal', rotation = 90, color = 'w', fontsize = 15)\n",
    "plt.text(1.9, 2, 'Domestic', rotation = 90, color = 'w', fontsize = 15)\n",
    "plt.ylim((0,5))\n",
    "plt.title('Wells')\n",
    "\n",
    "# Urban vs Rural\n",
    "plt.subplot(122)\n",
    "plt.bar([1,2], [urban_avg, rural_avg], color= ['grey', 'black'])\n",
    "plt.xticks([])\n",
    "plt.grid()\n",
    "plt.gca().set_axisbelow(True)\n",
    "plt.text(.9, 2, 'Urban', rotation = 90, color = 'w', fontsize = 15)\n",
    "plt.text(1.9, 2, 'Rural', rotation = 90, color = 'w', fontsize = 15)\n",
    "plt.ylim((0,5))\n",
    "plt.title('Zipcodes')"
   ]
  },
  {
   "cell_type": "code",
   "execution_count": null,
   "id": "8b9350bc",
   "metadata": {},
   "outputs": [],
   "source": []
  },
  {
   "cell_type": "code",
   "execution_count": null,
   "id": "866d5388",
   "metadata": {},
   "outputs": [],
   "source": []
  }
 ],
 "metadata": {
  "kernelspec": {
   "display_name": "Python 3 (ipykernel)",
   "language": "python",
   "name": "python3"
  },
  "language_info": {
   "codemirror_mode": {
    "name": "ipython",
    "version": 3
   },
   "file_extension": ".py",
   "mimetype": "text/x-python",
   "name": "python",
   "nbconvert_exporter": "python",
   "pygments_lexer": "ipython3",
   "version": "3.9.13"
  }
 },
 "nbformat": 4,
 "nbformat_minor": 5
}
